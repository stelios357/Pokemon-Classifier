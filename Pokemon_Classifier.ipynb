{
 "cells": [
  {
   "cell_type": "markdown",
   "metadata": {
    "colab_type": "text",
    "id": "view-in-github"
   },
   "source": [
    "<a href=\"https://colab.research.google.com/github/Exoper/ML_Dwarka_June19/blob/master/Pokemon_Classifier.ipynb\" target=\"_parent\"><img src=\"https://colab.research.google.com/assets/colab-badge.svg\" alt=\"Open In Colab\"/></a>"
   ]
  },
  {
   "cell_type": "markdown",
   "metadata": {
    "colab_type": "text",
    "id": "_1kz4w7p1oKx"
   },
   "source": [
    "## Pokemon - Classifier"
   ]
  },
  {
   "cell_type": "code",
   "execution_count": 0,
   "metadata": {
    "colab": {},
    "colab_type": "code",
    "id": "m-6EZ2tm2KVZ"
   },
   "outputs": [],
   "source": [
    "import os"
   ]
  },
  {
   "cell_type": "code",
   "execution_count": 3,
   "metadata": {
    "colab": {
     "base_uri": "https://localhost:8080/",
     "height": 34
    },
    "colab_type": "code",
    "id": "d1maAD_M2iEt",
    "outputId": "81364a65-bdc7-42e9-e5c8-859f348c8204"
   },
   "outputs": [
    {
     "name": "stderr",
     "output_type": "stream",
     "text": [
      "Using TensorFlow backend.\n"
     ]
    }
   ],
   "source": [
    "from pathlib import Path\n",
    "from google.colab import drive\n",
    "import keras\n",
    "from keras.preprocessing import image\n",
    "import numpy as np\n",
    "import matplotlib.pyplot as plt"
   ]
  },
  {
   "cell_type": "markdown",
   "metadata": {
    "colab_type": "text",
    "id": "Hi96q88h12bm"
   },
   "source": [
    "## Accessing dataset from Drive"
   ]
  },
  {
   "cell_type": "code",
   "execution_count": 4,
   "metadata": {
    "colab": {
     "base_uri": "https://localhost:8080/",
     "height": 124
    },
    "colab_type": "code",
    "id": "DgsjY7cx2l1s",
    "outputId": "85fb8836-5e10-4ded-84f8-61c4e650be24"
   },
   "outputs": [
    {
     "name": "stdout",
     "output_type": "stream",
     "text": [
      "Go to this URL in a browser: https://accounts.google.com/o/oauth2/auth?client_id=947318989803-6bn6qk8qdgf4n4g3pfee6491hc0brc4i.apps.googleusercontent.com&redirect_uri=urn%3Aietf%3Awg%3Aoauth%3A2.0%3Aoob&scope=email%20https%3A%2F%2Fwww.googleapis.com%2Fauth%2Fdocs.test%20https%3A%2F%2Fwww.googleapis.com%2Fauth%2Fdrive%20https%3A%2F%2Fwww.googleapis.com%2Fauth%2Fdrive.photos.readonly%20https%3A%2F%2Fwww.googleapis.com%2Fauth%2Fpeopleapi.readonly&response_type=code\n",
      "\n",
      "Enter your authorization code:\n",
      "··········\n",
      "Mounted at /content/gdrive\n"
     ]
    }
   ],
   "source": [
    "drive.mount('/content/gdrive')"
   ]
  },
  {
   "cell_type": "code",
   "execution_count": 0,
   "metadata": {
    "colab": {},
    "colab_type": "code",
    "id": "fuCU6Pk_2zIC"
   },
   "outputs": [],
   "source": [
    "!ls \"/content/gdrive/My Drive\""
   ]
  },
  {
   "cell_type": "markdown",
   "metadata": {
    "colab_type": "text",
    "id": "N1aDZQmh19ls"
   },
   "source": [
    "### Unzip the dataset file "
   ]
  },
  {
   "cell_type": "code",
   "execution_count": 0,
   "metadata": {
    "colab": {},
    "colab_type": "code",
    "id": "h9WVF4Fk255g"
   },
   "outputs": [],
   "source": [
    "!unzip -q \"/content/gdrive/My Drive/Pokemon_Classifier/Pokemon_Dataset.zip\""
   ]
  },
  {
   "cell_type": "code",
   "execution_count": 7,
   "metadata": {
    "colab": {
     "base_uri": "https://localhost:8080/",
     "height": 34
    },
    "colab_type": "code",
    "id": "4WHU0Onh2_I_",
    "outputId": "a5d02092-8da7-467a-bdfa-d8a39f305f10"
   },
   "outputs": [
    {
     "name": "stdout",
     "output_type": "stream",
     "text": [
      "gdrive\tPokemon-Dataset  sample_data\n"
     ]
    }
   ],
   "source": [
    "!ls"
   ]
  },
  {
   "cell_type": "markdown",
   "metadata": {
    "colab_type": "text",
    "id": "-muNutIr2IN5"
   },
   "source": [
    "## Creating a Dataset for the model"
   ]
  },
  {
   "cell_type": "code",
   "execution_count": 0,
   "metadata": {
    "colab": {},
    "colab_type": "code",
    "id": "lu1h1boS3ge_"
   },
   "outputs": [],
   "source": [
    "p = Path('Pokemon-Dataset/')"
   ]
  },
  {
   "cell_type": "code",
   "execution_count": 9,
   "metadata": {
    "colab": {
     "base_uri": "https://localhost:8080/",
     "height": 364
    },
    "colab_type": "code",
    "id": "sMoB_adN3w-w",
    "outputId": "23a29bdf-00aa-4a70-bf19-5292cd18eed4"
   },
   "outputs": [
    {
     "name": "stdout",
     "output_type": "stream",
     "text": [
      "Pokemon-Dataset/Squirtle\n",
      "186\n",
      "Pokemon-Dataset/Bulbasaur\n",
      "174\n",
      "Pokemon-Dataset/Charmander\n",
      "200\n",
      "Pokemon-Dataset/Mewtwo\n",
      "192\n",
      "Pokemon-Dataset/Pikachu\n",
      "199\n",
      "Pokemon-Dataset/Spearow\n",
      "130\n",
      "Pokemon-Dataset/Poliwhirl\n",
      "63\n",
      "Pokemon-Dataset/Onix\n",
      "64\n",
      "Pokemon-Dataset/Arcanine\n",
      "61\n",
      "Pokemon-Dataset/Psyduck\n",
      "158\n"
     ]
    }
   ],
   "source": [
    "files = p.glob('*')\n",
    "\n",
    "image_data = []\n",
    "image_label = []\n",
    "\n",
    "label_dict = {'Squirtle':0,'Spearow':1,'Psyduck':2,'Charmander':3 , 'Bulbasaur':4 , 'Pikachu':5 , 'Arcanine':6,'Mewtwo':7, 'Onix':8 , 'Poliwhirl':9}\n",
    "label_to_name = {0:'Squirtle',1:'Spearow',2:'Psyduck',3:'Charmander',4:'Bulbasaur',5:'Pikachu',6:'Arcanine',7:'Mewtwo',8:'Onix',9:'Poliwhirl'}\n",
    "for f in files:\n",
    "    label = str(f).split('/')[-1]\n",
    "    \n",
    "    cnt = 0\n",
    "    \n",
    "    print(f)\n",
    "    \n",
    "    for image_path in f.glob('*.jpg'):\n",
    "        img = image.load_img(image_path , target_size=(96,96))\n",
    "        \n",
    "        image_array = image.img_to_array(img)\n",
    "        \n",
    "        image_data.append(image_array)\n",
    "        \n",
    "        image_label.append(label_dict[label])\n",
    "        \n",
    "        cnt +=1\n",
    "        \n",
    "    print(cnt)"
   ]
  },
  {
   "cell_type": "code",
   "execution_count": 10,
   "metadata": {
    "colab": {
     "base_uri": "https://localhost:8080/",
     "height": 34
    },
    "colab_type": "code",
    "id": "b6Empetd4D6i",
    "outputId": "8da7b36b-6fa0-4bd8-db32-33336881d374"
   },
   "outputs": [
    {
     "data": {
      "text/plain": [
       "(1427, 1427)"
      ]
     },
     "execution_count": 10,
     "metadata": {
      "tags": []
     },
     "output_type": "execute_result"
    }
   ],
   "source": [
    "len(image_data) , len(image_label)"
   ]
  },
  {
   "cell_type": "code",
   "execution_count": 0,
   "metadata": {
    "colab": {},
    "colab_type": "code",
    "id": "8BAU90Rh4r2x"
   },
   "outputs": [],
   "source": [
    "X = np.array(image_data , dtype = 'float32')\n",
    "y =np.array(image_label)"
   ]
  },
  {
   "cell_type": "code",
   "execution_count": 12,
   "metadata": {
    "colab": {
     "base_uri": "https://localhost:8080/",
     "height": 34
    },
    "colab_type": "code",
    "id": "ya6p3a3U5VDj",
    "outputId": "4cd8442b-85a4-4ca0-e1ff-f32622ab2646"
   },
   "outputs": [
    {
     "data": {
      "text/plain": [
       "((1427, 96, 96, 3), (1427,))"
      ]
     },
     "execution_count": 12,
     "metadata": {
      "tags": []
     },
     "output_type": "execute_result"
    }
   ],
   "source": [
    "X.shape , y.shape"
   ]
  },
  {
   "cell_type": "markdown",
   "metadata": {
    "colab_type": "text",
    "id": "mujQZGli2Pcm"
   },
   "source": [
    "## Plotting the Images"
   ]
  },
  {
   "cell_type": "code",
   "execution_count": 0,
   "metadata": {
    "colab": {},
    "colab_type": "code",
    "id": "8mKp0SBc5cw8"
   },
   "outputs": [],
   "source": [
    "def drawImg(img,label):\n",
    "    plt.title(label_to_name[label])\n",
    "    plt.imshow(img)\n",
    "    plt.style.use('seaborn')\n",
    "    plt.show()"
   ]
  },
  {
   "cell_type": "code",
   "execution_count": 14,
   "metadata": {
    "colab": {
     "base_uri": "https://localhost:8080/",
     "height": 280
    },
    "colab_type": "code",
    "id": "4wTWFPsP7S9Z",
    "outputId": "eaddd68e-7429-4caa-9e36-eae685b5a1e5"
   },
   "outputs": [
    {
     "data": {
      "image/png": "[encoded data removed]",
      "text/plain": [
       "<Figure size 432x288 with 1 Axes>"
      ]
     },
     "metadata": {
      "tags": []
     },
     "output_type": "display_data"
    }
   ],
   "source": [
    "a = np.random.np.random.randint(1428)\n",
    "drawImg(X[0]/255.0 , y[0])"
   ]
  },
  {
   "cell_type": "markdown",
   "metadata": {
    "colab_type": "text",
    "id": "nijtH7NULxOY"
   },
   "source": [
    "## Adding datasets directly from Kaggle"
   ]
  },
  {
   "cell_type": "code",
   "execution_count": 0,
   "metadata": {
    "colab": {
     "base_uri": "https://localhost:8080/",
     "height": 228
    },
    "colab_type": "code",
    "id": "uRjvlSD97axo",
    "outputId": "e1541a29-0fb4-4274-8588-b4dc7dfd0430"
   },
   "outputs": [
    {
     "name": "stdout",
     "output_type": "stream",
     "text": [
      "Requirement already satisfied: kaggle in /usr/local/lib/python3.6/dist-packages (1.5.4)\n",
      "Requirement already satisfied: python-dateutil in /usr/local/lib/python3.6/dist-packages (from kaggle) (2.5.3)\n",
      "Requirement already satisfied: requests in /usr/local/lib/python3.6/dist-packages (from kaggle) (2.21.0)\n",
      "Requirement already satisfied: python-slugify in /usr/local/lib/python3.6/dist-packages (from kaggle) (3.0.2)\n",
      "Requirement already satisfied: urllib3<1.25,>=1.21.1 in /usr/local/lib/python3.6/dist-packages (from kaggle) (1.24.3)\n",
      "Requirement already satisfied: tqdm in /usr/local/lib/python3.6/dist-packages (from kaggle) (4.28.1)\n",
      "Requirement already satisfied: certifi in /usr/local/lib/python3.6/dist-packages (from kaggle) (2019.6.16)\n",
      "Requirement already satisfied: six>=1.10 in /usr/local/lib/python3.6/dist-packages (from kaggle) (1.12.0)\n",
      "Requirement already satisfied: chardet<3.1.0,>=3.0.2 in /usr/local/lib/python3.6/dist-packages (from requests->kaggle) (3.0.4)\n",
      "Requirement already satisfied: idna<2.9,>=2.5 in /usr/local/lib/python3.6/dist-packages (from requests->kaggle) (2.8)\n",
      "Requirement already satisfied: text-unidecode==1.2 in /usr/local/lib/python3.6/dist-packages (from python-slugify->kaggle) (1.2)\n"
     ]
    }
   ],
   "source": [
    "\n",
    "!pip install kaggle\n"
   ]
  },
  {
   "cell_type": "code",
   "execution_count": 0,
   "metadata": {
    "colab": {
     "base_uri": "https://localhost:8080/",
     "height": 100,
     "resources": {
      "http://localhost:8080/nbextensions/google.colab/files.js": {
       "data": "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",
       "headers": [
        [
         "content-type",
         "application/javascript"
        ]
       ],
       "ok": true,
       "status": 200,
       "status_text": "OK"
      }
     }
    },
    "colab_type": "code",
    "id": "pIWGQb5H__r_",
    "outputId": "09d3a876-3e3f-4a73-ba3c-da5366a93236"
   },
   "outputs": [
    {
     "data": {
      "text/html": [
       "\n",
       "     <input type=\"file\" id=\"files-f7f89884-961c-4c31-93ca-f2ff65ccc4ad\" name=\"files[]\" multiple disabled />\n",
       "     <output id=\"result-f7f89884-961c-4c31-93ca-f2ff65ccc4ad\">\n",
       "      Upload widget is only available when the cell has been executed in the\n",
       "      current browser session. Please rerun this cell to enable.\n",
       "      </output>\n",
       "      <script src=\"/nbextensions/google.colab/files.js\"></script> "
      ],
      "text/plain": [
       "<IPython.core.display.HTML object>"
      ]
     },
     "metadata": {
      "tags": []
     },
     "output_type": "display_data"
    },
    {
     "name": "stdout",
     "output_type": "stream",
     "text": [
      "Saving kaggle.json to kaggle.json\n"
     ]
    },
    {
     "data": {
      "text/plain": [
       "{'kaggle.json': b'{\"username\":\"hchauhan97\",\"key\":\"4bb7c5244f0ef28b24a6acd6d881408e\"}'}"
      ]
     },
     "execution_count": 27,
     "metadata": {
      "tags": []
     },
     "output_type": "execute_result"
    }
   ],
   "source": [
    "from google.colab import files\n",
    "files.upload()"
   ]
  },
  {
   "cell_type": "code",
   "execution_count": 0,
   "metadata": {
    "colab": {
     "base_uri": "https://localhost:8080/",
     "height": 34
    },
    "colab_type": "code",
    "id": "OMfOB7SOAJCD",
    "outputId": "78d4cfcb-d38e-4baf-ca15-9c08af19994c"
   },
   "outputs": [
    {
     "name": "stdout",
     "output_type": "stream",
     "text": [
      "kaggle.json\n"
     ]
    }
   ],
   "source": [
    "!mkdir -p ~/.kaggle\n",
    "!cp kaggle.json ~/.kaggle/\n",
    "!ls ~/.kaggle\n",
    "!chmod 600 /root/.kaggle/kaggle.json"
   ]
  },
  {
   "cell_type": "code",
   "execution_count": 0,
   "metadata": {
    "colab": {
     "base_uri": "https://localhost:8080/",
     "height": 69
    },
    "colab_type": "code",
    "id": "2RCUSBX2Bypv",
    "outputId": "2d2b3ab9-a8ec-4792-cdcf-b45a022602f8"
   },
   "outputs": [
    {
     "name": "stdout",
     "output_type": "stream",
     "text": [
      "Downloading pokemon-generation-one.zip to /content\n",
      " 98% 1.06G/1.08G [00:28<00:00, 41.1MB/s]\n",
      "100% 1.08G/1.08G [00:28<00:00, 40.8MB/s]\n"
     ]
    }
   ],
   "source": [
    "!kaggle datasets download -d thedagger/pokemon-generation-one"
   ]
  },
  {
   "cell_type": "code",
   "execution_count": 0,
   "metadata": {
    "colab": {
     "base_uri": "https://localhost:8080/",
     "height": 34
    },
    "colab_type": "code",
    "id": "pgGK2VHJCazA",
    "outputId": "8aa3c446-b072-4f0b-d58e-3e3f89441fe5"
   },
   "outputs": [
    {
     "name": "stdout",
     "output_type": "stream",
     "text": [
      "gdrive\tkaggle.json  Pokemon-Dataset  pokemon-generation-one.zip  sample_data\n"
     ]
    }
   ],
   "source": [
    "!ls"
   ]
  },
  {
   "cell_type": "code",
   "execution_count": 0,
   "metadata": {
    "colab": {},
    "colab_type": "code",
    "id": "i3RuSsuQCp4r"
   },
   "outputs": [],
   "source": [
    "pokemon = ['Pikachu', 'Squitle', 'Mewtwo','Onix','Charmander','Bublbasaur','Psyduck','Spearow','Poliwhirl','Arcanine']\n",
    "\n",
    "!unzip pokemon-generation-one.zip"
   ]
  },
  {
   "cell_type": "code",
   "execution_count": 0,
   "metadata": {
    "colab": {
     "base_uri": "https://localhost:8080/",
     "height": 52
    },
    "colab_type": "code",
    "id": "1vEMeH8oD1ia",
    "outputId": "b6aeedc2-d108-45f7-9fd3-ca44dc6f887b"
   },
   "outputs": [
    {
     "name": "stdout",
     "output_type": "stream",
     "text": [
      "dataset  kaggle.json  Pokemon-Dataset\t\t  sample_data\n",
      "gdrive\t __MACOSX     pokemon-generation-one.zip\n"
     ]
    }
   ],
   "source": [
    "!ls\n"
   ]
  },
  {
   "cell_type": "code",
   "execution_count": 0,
   "metadata": {
    "colab": {
     "base_uri": "https://localhost:8080/",
     "height": 399
    },
    "colab_type": "code",
    "id": "iv0vg6yeFgHi",
    "outputId": "1a1aace9-b16f-4030-be99-433a1a7e9bf1"
   },
   "outputs": [
    {
     "name": "stdout",
     "output_type": "stream",
     "text": [
      "Abra\t    Ditto\tGoldeen     Koffing    Nidoran♀   Primeape   Tangela\n",
      "Aerodactyl  Dodrio\tGolduck     Krabby     Nidoran♂   Psyduck    Tauros\n",
      "Alakazam    Doduo\tGolem\t    Lapras     Nidorina   Raichu     Tentacool\n",
      "Arbok\t    Dragonair\tGraveler    Lickitung  Nidorino   Rapidash   Tentacruel\n",
      "Arcanine    Dragonite\tGrimer\t    Machamp    Ninetales  Raticate   Vaporeon\n",
      "Articuno    Dratini\tGrowlithe   Machoke    Oddish\t  Rattata    Venomoth\n",
      "Beedrill    Drowzee\tGyarados    Machop     Omanyte\t  Rhydon     Venonat\n",
      "Bellsprout  Dugtrio\tHaunter     Magikarp   Omastar\t  Rhyhorn    Venusaur\n",
      "Blastoise   Eevee\tHitmonchan  Magmar     Onix\t  Sandshrew  Victreebel\n",
      "Bulbasaur   Ekans\tHitmonlee   Magnemite  Paras\t  Sandslash  Vileplume\n",
      "Butterfree  Electabuzz\tHorsea\t    Magneton   Parasect   Scyther    Voltorb\n",
      "Caterpie    Electrode\tHypno\t    Mankey     Persian\t  Seadra     Vulpix\n",
      "Chansey     Exeggcute\tIvysaur     Marowak    Pidgeot\t  Seaking    Wartortle\n",
      "Charizard   Exeggutor\tJigglypuff  Meowth     Pidgeotto  Seel\t     Weedle\n",
      "Charmander  Farfetchd\tJolteon     Metapod    Pidgey\t  Shellder   Weepinbell\n",
      "Charmeleon  Fearow\tJynx\t    Mew        Pikachu\t  Slowbro    Weezing\n",
      "Clefable    Flareon\tKabuto\t    Mewtwo     Pinsir\t  Slowpoke   Wigglytuff\n",
      "Clefairy    Gastly\tKabutops    Moltres    Poliwag\t  Snorlax    Zapdos\n",
      "Cloyster    Gengar\tKadabra     MrMime     Poliwhirl  Spearow    Zubat\n",
      "Cubone\t    Geodude\tKakuna\t    Muk        Poliwrath  Squirtle\n",
      "Dewgong     Gloom\tKangaskhan  Nidoking   Ponyta\t  Starmie\n",
      "Diglett     Golbat\tKingler     Nidoqueen  Porygon\t  Staryu\n"
     ]
    }
   ],
   "source": [
    "!ls dataset"
   ]
  },
  {
   "cell_type": "markdown",
   "metadata": {
    "colab_type": "text",
    "id": "LI1WBkmHL4Ap"
   },
   "source": [
    "## Preprocessing"
   ]
  },
  {
   "cell_type": "code",
   "execution_count": 0,
   "metadata": {
    "colab": {},
    "colab_type": "code",
    "id": "XMS705PBHPls"
   },
   "outputs": [],
   "source": [
    "X /= 255.0"
   ]
  },
  {
   "cell_type": "code",
   "execution_count": 0,
   "metadata": {
    "colab": {},
    "colab_type": "code",
    "id": "QPzWBGuWJ25B"
   },
   "outputs": [],
   "source": [
    "from sklearn.model_selection import train_test_split"
   ]
  },
  {
   "cell_type": "code",
   "execution_count": 0,
   "metadata": {
    "colab": {},
    "colab_type": "code",
    "id": "wLCM_6WUJ7YZ"
   },
   "outputs": [],
   "source": [
    "X_train , X_test , y_train , y_test = train_test_split(X, y , test_size = 0.20 , random_state = 42 , shuffle = True)"
   ]
  },
  {
   "cell_type": "code",
   "execution_count": 18,
   "metadata": {
    "colab": {
     "base_uri": "https://localhost:8080/",
     "height": 34
    },
    "colab_type": "code",
    "id": "w30nQGB9HlK1",
    "outputId": "571c29a4-f4cf-4619-982b-a761d76947a5"
   },
   "outputs": [
    {
     "data": {
      "text/plain": [
       "((1141, 96, 96, 3), (1141,))"
      ]
     },
     "execution_count": 18,
     "metadata": {
      "tags": []
     },
     "output_type": "execute_result"
    }
   ],
   "source": [
    "X_train.shape , y_train.shape"
   ]
  },
  {
   "cell_type": "code",
   "execution_count": 19,
   "metadata": {
    "colab": {
     "base_uri": "https://localhost:8080/",
     "height": 34
    },
    "colab_type": "code",
    "id": "1FLzgVj50akj",
    "outputId": "93e2827b-6a19-4d59-90c9-aad60424228a"
   },
   "outputs": [
    {
     "data": {
      "text/plain": [
       "(286, 96, 96, 3)"
      ]
     },
     "execution_count": 19,
     "metadata": {
      "tags": []
     },
     "output_type": "execute_result"
    }
   ],
   "source": [
    "X_test.shape"
   ]
  },
  {
   "cell_type": "code",
   "execution_count": 20,
   "metadata": {
    "colab": {
     "base_uri": "https://localhost:8080/",
     "height": 362
    },
    "colab_type": "code",
    "id": "_U8cm4RqIGIs",
    "outputId": "27af054b-278a-49a2-fba1-f4fee8bebce1"
   },
   "outputs": [
    {
     "data": {
      "image/png": "[encoded data removed]",
      "text/plain": [
       "<Figure size 576x396 with 1 Axes>"
      ]
     },
     "metadata": {
      "tags": []
     },
     "output_type": "display_data"
    }
   ],
   "source": [
    "drawImg(X_train[4],y_train[4])"
   ]
  },
  {
   "cell_type": "code",
   "execution_count": 0,
   "metadata": {
    "colab": {},
    "colab_type": "code",
    "id": "iP4gx_YmMaHW"
   },
   "outputs": [],
   "source": [
    "from keras import Sequential\n",
    "from keras.layers import *\n",
    "from keras.utils import to_categorical"
   ]
  },
  {
   "cell_type": "code",
   "execution_count": 0,
   "metadata": {
    "colab": {},
    "colab_type": "code",
    "id": "Ya6DAe_3MsaW"
   },
   "outputs": [],
   "source": [
    "\n",
    "Y_train_one_hot = to_categorical(y_train)\n",
    "Y_test_one_hot = to_categorical(y_test)"
   ]
  },
  {
   "cell_type": "code",
   "execution_count": 0,
   "metadata": {
    "colab": {},
    "colab_type": "code",
    "id": "2fM4jV_MM8dO"
   },
   "outputs": [],
   "source": [
    "Input_shape = (96 , 96 , 3)"
   ]
  },
  {
   "cell_type": "markdown",
   "metadata": {
    "colab_type": "text",
    "id": "HPBpKYcm2lzD"
   },
   "source": [
    "## Model basic CNN"
   ]
  },
  {
   "cell_type": "code",
   "execution_count": 0,
   "metadata": {
    "colab": {},
    "colab_type": "code",
    "id": "vmfmpcU5NLWt"
   },
   "outputs": [],
   "source": [
    "def createModel():\n",
    "    model = Sequential()\n",
    "    # The first two layers with 32 filters of window size 3x3\n",
    "    model.add(Conv2D(32, (3, 3), padding='same', activation='relu', input_shape=Input_shape))\n",
    "    model.add(Conv2D(32, (3, 3), activation='relu'))\n",
    "    model.add(MaxPooling2D(pool_size=(2, 2)))\n",
    "    model.add(Dropout(0.25))\n",
    "\n",
    "    model.add(Conv2D(64, (3, 3), padding='same', activation='relu'))\n",
    "    model.add(Conv2D(64, (3, 3), activation='relu'))\n",
    "    model.add(MaxPooling2D(pool_size=(2, 2)))\n",
    "    model.add(Dropout(0.25))\n",
    "\n",
    "    model.add(Conv2D(64, (3, 3), padding='same', activation='relu'))\n",
    "    model.add(Conv2D(64, (3, 3), activation='relu'))\n",
    "    model.add(MaxPooling2D(pool_size=(2, 2)))\n",
    "    model.add(Dropout(0.25))\n",
    "\n",
    "    model.add(Flatten())\n",
    "    model.add(Dense(512, activation='relu'))\n",
    "    model.add(Dropout(0.5))\n",
    "    model.add(Dense(10, activation='softmax'))\n",
    "    \n",
    "    return model"
   ]
  },
  {
   "cell_type": "code",
   "execution_count": 0,
   "metadata": {
    "colab": {
     "base_uri": "https://localhost:8080/",
     "height": 694
    },
    "colab_type": "code",
    "id": "N1cJfPEANP7C",
    "outputId": "d701a409-3cf3-4f76-b859-129dddbc0620"
   },
   "outputs": [
    {
     "name": "stdout",
     "output_type": "stream",
     "text": [
      "_________________________________________________________________\n",
      "Layer (type)                 Output Shape              Param #   \n",
      "=================================================================\n",
      "conv2d_31 (Conv2D)           (None, 96, 96, 32)        896       \n",
      "_________________________________________________________________\n",
      "conv2d_32 (Conv2D)           (None, 94, 94, 32)        9248      \n",
      "_________________________________________________________________\n",
      "max_pooling2d_22 (MaxPooling (None, 47, 47, 32)        0         \n",
      "_________________________________________________________________\n",
      "dropout_31 (Dropout)         (None, 47, 47, 32)        0         \n",
      "_________________________________________________________________\n",
      "conv2d_33 (Conv2D)           (None, 47, 47, 64)        18496     \n",
      "_________________________________________________________________\n",
      "conv2d_34 (Conv2D)           (None, 45, 45, 64)        36928     \n",
      "_________________________________________________________________\n",
      "max_pooling2d_23 (MaxPooling (None, 22, 22, 64)        0         \n",
      "_________________________________________________________________\n",
      "dropout_32 (Dropout)         (None, 22, 22, 64)        0         \n",
      "_________________________________________________________________\n",
      "conv2d_35 (Conv2D)           (None, 22, 22, 64)        36928     \n",
      "_________________________________________________________________\n",
      "conv2d_36 (Conv2D)           (None, 20, 20, 64)        36928     \n",
      "_________________________________________________________________\n",
      "max_pooling2d_24 (MaxPooling (None, 10, 10, 64)        0         \n",
      "_________________________________________________________________\n",
      "dropout_33 (Dropout)         (None, 10, 10, 64)        0         \n",
      "_________________________________________________________________\n",
      "flatten_10 (Flatten)         (None, 6400)              0         \n",
      "_________________________________________________________________\n",
      "dense_19 (Dense)             (None, 512)               3277312   \n",
      "_________________________________________________________________\n",
      "dropout_34 (Dropout)         (None, 512)               0         \n",
      "_________________________________________________________________\n",
      "dense_20 (Dense)             (None, 10)                5130      \n",
      "=================================================================\n",
      "Total params: 3,421,866\n",
      "Trainable params: 3,421,866\n",
      "Non-trainable params: 0\n",
      "_________________________________________________________________\n"
     ]
    }
   ],
   "source": [
    "model1 = createModel()\n",
    "model1.summary()"
   ]
  },
  {
   "cell_type": "markdown",
   "metadata": {
    "colab_type": "text",
    "id": "OG1xJ_9Y2vCr"
   },
   "source": [
    "### Training and Testing"
   ]
  },
  {
   "cell_type": "code",
   "execution_count": 0,
   "metadata": {
    "colab": {
     "base_uri": "https://localhost:8080/",
     "height": 749
    },
    "colab_type": "code",
    "id": "vLrtPU62NUON",
    "outputId": "5cfc6e10-1198-4db2-add9-742c95fd3bbc"
   },
   "outputs": [
    {
     "name": "stdout",
     "output_type": "stream",
     "text": [
      "Train on 1141 samples, validate on 286 samples\n",
      "Epoch 1/20\n",
      "1141/1141 [==============================] - 4s 3ms/step - loss: 2.2754 - acc: 0.1297 - val_loss: 2.1971 - val_acc: 0.1329\n",
      "Epoch 2/20\n",
      "1141/1141 [==============================] - 2s 1ms/step - loss: 2.1839 - acc: 0.1499 - val_loss: 2.0440 - val_acc: 0.3112\n",
      "Epoch 3/20\n",
      "1141/1141 [==============================] - 2s 1ms/step - loss: 2.0050 - acc: 0.2656 - val_loss: 1.8698 - val_acc: 0.3042\n",
      "Epoch 4/20\n",
      "1141/1141 [==============================] - 2s 1ms/step - loss: 1.8301 - acc: 0.3295 - val_loss: 1.6822 - val_acc: 0.4091\n",
      "Epoch 5/20\n",
      "1141/1141 [==============================] - 2s 1ms/step - loss: 1.7342 - acc: 0.3506 - val_loss: 1.5981 - val_acc: 0.4476\n",
      "Epoch 6/20\n",
      "1141/1141 [==============================] - 2s 1ms/step - loss: 1.6354 - acc: 0.4207 - val_loss: 1.5339 - val_acc: 0.4406\n",
      "Epoch 7/20\n",
      "1141/1141 [==============================] - 2s 1ms/step - loss: 1.5949 - acc: 0.4216 - val_loss: 1.4791 - val_acc: 0.5455\n",
      "Epoch 8/20\n",
      "1141/1141 [==============================] - 2s 1ms/step - loss: 1.5136 - acc: 0.4531 - val_loss: 1.4582 - val_acc: 0.5315\n",
      "Epoch 9/20\n",
      "1141/1141 [==============================] - 2s 1ms/step - loss: 1.4196 - acc: 0.5223 - val_loss: 1.3201 - val_acc: 0.5699\n",
      "Epoch 10/20\n",
      "1141/1141 [==============================] - 2s 1ms/step - loss: 1.2802 - acc: 0.5609 - val_loss: 1.2263 - val_acc: 0.5909\n",
      "Epoch 11/20\n",
      "1141/1141 [==============================] - 2s 1ms/step - loss: 1.1769 - acc: 0.6056 - val_loss: 1.1543 - val_acc: 0.6434\n",
      "Epoch 12/20\n",
      "1141/1141 [==============================] - 2s 1ms/step - loss: 1.0296 - acc: 0.6450 - val_loss: 1.0664 - val_acc: 0.6469\n",
      "Epoch 13/20\n",
      "1141/1141 [==============================] - 2s 1ms/step - loss: 0.9584 - acc: 0.6827 - val_loss: 1.0555 - val_acc: 0.6678\n",
      "Epoch 14/20\n",
      "1141/1141 [==============================] - 2s 1ms/step - loss: 0.8542 - acc: 0.7213 - val_loss: 0.9414 - val_acc: 0.7133\n",
      "Epoch 15/20\n",
      "1141/1141 [==============================] - 2s 1ms/step - loss: 0.7538 - acc: 0.7441 - val_loss: 0.9401 - val_acc: 0.6958\n",
      "Epoch 16/20\n",
      "1141/1141 [==============================] - 2s 1ms/step - loss: 0.6987 - acc: 0.7642 - val_loss: 0.8981 - val_acc: 0.7378\n",
      "Epoch 17/20\n",
      "1141/1141 [==============================] - 2s 1ms/step - loss: 0.6429 - acc: 0.8046 - val_loss: 0.8543 - val_acc: 0.7168\n",
      "Epoch 18/20\n",
      "1141/1141 [==============================] - 2s 1ms/step - loss: 0.5873 - acc: 0.8072 - val_loss: 0.8828 - val_acc: 0.7517\n",
      "Epoch 19/20\n",
      "1141/1141 [==============================] - 2s 1ms/step - loss: 0.5554 - acc: 0.8238 - val_loss: 0.8328 - val_acc: 0.7587\n",
      "Epoch 20/20\n",
      "1141/1141 [==============================] - 2s 1ms/step - loss: 0.4447 - acc: 0.8615 - val_loss: 0.8189 - val_acc: 0.7413\n"
     ]
    }
   ],
   "source": [
    "from keras import optimizers\n",
    "model1.compile(loss = 'categorical_crossentropy',optimizer='adam',metrics=['accuracy'])\n",
    "\n",
    "hist = model1.fit(X_train , Y_train_one_hot,batch_size = 256 , epochs = 20 , verbose = 1,\n",
    "                validation_data = (X_test , Y_test_one_hot))\n",
    "score = model1.evaluate(X_test, Y_test_one_hot, verbose=0)"
   ]
  },
  {
   "cell_type": "markdown",
   "metadata": {
    "colab_type": "text",
    "id": "tHkSi_O821UB"
   },
   "source": [
    "### PLotting the curve"
   ]
  },
  {
   "cell_type": "code",
   "execution_count": 0,
   "metadata": {
    "colab": {
     "base_uri": "https://localhost:8080/",
     "height": 411
    },
    "colab_type": "code",
    "id": "sr8bwvBZSNQp",
    "outputId": "5bde79ec-4dbe-4c74-e4cd-41d4625f5668"
   },
   "outputs": [
    {
     "data": {
      "image/png": "[encoded data removed]",
      "text/plain": [
       "<Figure size 576x432 with 1 Axes>"
      ]
     },
     "metadata": {
      "tags": []
     },
     "output_type": "display_data"
    }
   ],
   "source": [
    "plt.figure(figsize=[8,6])\n",
    "plt.plot(hist.history['acc'],'r',linewidth=3.0)\n",
    "plt.plot(hist.history['val_acc'],'b',linewidth=3.0)\n",
    "plt.legend(['Training Accuracy', 'Validation Accuracy'],fontsize=18)\n",
    "plt.xlabel('Epochs ',fontsize=16)\n",
    "plt.ylabel('Accuracy',fontsize=16)\n",
    "plt.title('Accuracy Curves',fontsize=16)\n",
    "plt.show()"
   ]
  },
  {
   "cell_type": "markdown",
   "metadata": {
    "colab_type": "text",
    "id": "ytDqVtqq25vm"
   },
   "source": [
    "## Additional Preprocessing using ImageDataGenerator"
   ]
  },
  {
   "cell_type": "code",
   "execution_count": 25,
   "metadata": {
    "colab": {
     "base_uri": "https://localhost:8080/",
     "height": 1000
    },
    "colab_type": "code",
    "id": "pIhrDj-ONeM5",
    "outputId": "039e0f0b-e7ea-4ea1-8862-d77e8a893d32"
   },
   "outputs": [
    {
     "name": "stderr",
     "output_type": "stream",
     "text": [
      "WARNING: Logging before flag parsing goes to stderr.\n",
      "W0718 17:33:05.382173 139914305898368 deprecation_wrapper.py:119] From /usr/local/lib/python3.6/dist-packages/keras/backend/tensorflow_backend.py:74: The name tf.get_default_graph is deprecated. Please use tf.compat.v1.get_default_graph instead.\n",
      "\n",
      "W0718 17:33:05.423543 139914305898368 deprecation_wrapper.py:119] From /usr/local/lib/python3.6/dist-packages/keras/backend/tensorflow_backend.py:517: The name tf.placeholder is deprecated. Please use tf.compat.v1.placeholder instead.\n",
      "\n",
      "W0718 17:33:05.437595 139914305898368 deprecation_wrapper.py:119] From /usr/local/lib/python3.6/dist-packages/keras/backend/tensorflow_backend.py:4138: The name tf.random_uniform is deprecated. Please use tf.random.uniform instead.\n",
      "\n",
      "W0718 17:33:05.476836 139914305898368 deprecation_wrapper.py:119] From /usr/local/lib/python3.6/dist-packages/keras/backend/tensorflow_backend.py:3976: The name tf.nn.max_pool is deprecated. Please use tf.nn.max_pool2d instead.\n",
      "\n",
      "W0718 17:33:05.481736 139914305898368 deprecation_wrapper.py:119] From /usr/local/lib/python3.6/dist-packages/keras/backend/tensorflow_backend.py:133: The name tf.placeholder_with_default is deprecated. Please use tf.compat.v1.placeholder_with_default instead.\n",
      "\n",
      "W0718 17:33:05.491463 139914305898368 deprecation.py:506] From /usr/local/lib/python3.6/dist-packages/keras/backend/tensorflow_backend.py:3445: calling dropout (from tensorflow.python.ops.nn_ops) with keep_prob is deprecated and will be removed in a future version.\n",
      "Instructions for updating:\n",
      "Please use `rate` instead of `keep_prob`. Rate should be set to `rate = 1 - keep_prob`.\n",
      "W0718 17:33:05.637119 139914305898368 deprecation_wrapper.py:119] From /usr/local/lib/python3.6/dist-packages/keras/optimizers.py:790: The name tf.train.Optimizer is deprecated. Please use tf.compat.v1.train.Optimizer instead.\n",
      "\n",
      "W0718 17:33:05.659635 139914305898368 deprecation_wrapper.py:119] From /usr/local/lib/python3.6/dist-packages/keras/backend/tensorflow_backend.py:3295: The name tf.log is deprecated. Please use tf.math.log instead.\n",
      "\n",
      "W0718 17:33:05.767358 139914305898368 deprecation.py:323] From /usr/local/lib/python3.6/dist-packages/tensorflow/python/ops/math_grad.py:1250: add_dispatch_support.<locals>.wrapper (from tensorflow.python.ops.array_ops) is deprecated and will be removed in a future version.\n",
      "Instructions for updating:\n",
      "Use tf.where in 2.0, which has the same broadcast rule as np.where\n"
     ]
    },
    {
     "name": "stdout",
     "output_type": "stream",
     "text": [
      "Epoch 1/32\n",
      "36/36 [==============================] - 9s 260ms/step - loss: 2.1482 - acc: 0.1872 - val_loss: 1.9487 - val_acc: 0.2902\n",
      "Epoch 2/32\n",
      "36/36 [==============================] - 2s 50ms/step - loss: 1.9315 - acc: 0.2779 - val_loss: 1.8137 - val_acc: 0.3182\n",
      "Epoch 3/32\n",
      "36/36 [==============================] - 2s 57ms/step - loss: 1.7522 - acc: 0.3673 - val_loss: 1.5608 - val_acc: 0.4336\n",
      "Epoch 4/32\n",
      "36/36 [==============================] - 2s 58ms/step - loss: 1.6103 - acc: 0.4295 - val_loss: 1.4656 - val_acc: 0.4510\n",
      "Epoch 5/32\n",
      "36/36 [==============================] - 2s 59ms/step - loss: 1.5202 - acc: 0.4676 - val_loss: 1.4847 - val_acc: 0.5000\n",
      "Epoch 6/32\n",
      "36/36 [==============================] - 2s 62ms/step - loss: 1.3871 - acc: 0.4985 - val_loss: 1.2404 - val_acc: 0.5385\n",
      "Epoch 7/32\n",
      "36/36 [==============================] - 2s 58ms/step - loss: 1.2779 - acc: 0.5436 - val_loss: 1.2129 - val_acc: 0.5909\n",
      "Epoch 8/32\n",
      "36/36 [==============================] - 2s 58ms/step - loss: 1.1936 - acc: 0.5579 - val_loss: 1.0593 - val_acc: 0.6364\n",
      "Epoch 9/32\n",
      "36/36 [==============================] - 2s 57ms/step - loss: 1.1694 - acc: 0.5936 - val_loss: 1.1466 - val_acc: 0.6084\n",
      "Epoch 10/32\n",
      "36/36 [==============================] - 2s 59ms/step - loss: 1.0990 - acc: 0.6257 - val_loss: 1.0659 - val_acc: 0.6678\n",
      "Epoch 11/32\n",
      "36/36 [==============================] - 2s 56ms/step - loss: 0.9940 - acc: 0.6522 - val_loss: 0.8753 - val_acc: 0.6923\n",
      "Epoch 12/32\n",
      "36/36 [==============================] - 2s 58ms/step - loss: 0.8820 - acc: 0.6882 - val_loss: 0.8981 - val_acc: 0.7133\n",
      "Epoch 13/32\n",
      "36/36 [==============================] - 2s 58ms/step - loss: 0.8791 - acc: 0.7060 - val_loss: 0.8364 - val_acc: 0.7622\n",
      "Epoch 14/32\n",
      "36/36 [==============================] - 2s 60ms/step - loss: 0.9408 - acc: 0.6939 - val_loss: 0.8477 - val_acc: 0.7273\n",
      "Epoch 15/32\n",
      "36/36 [==============================] - 2s 55ms/step - loss: 0.8266 - acc: 0.7104 - val_loss: 0.7759 - val_acc: 0.7587\n",
      "Epoch 16/32\n",
      "36/36 [==============================] - 2s 58ms/step - loss: 0.8532 - acc: 0.7143 - val_loss: 0.7543 - val_acc: 0.7622\n",
      "Epoch 17/32\n",
      "36/36 [==============================] - 2s 57ms/step - loss: 0.7767 - acc: 0.7560 - val_loss: 0.7133 - val_acc: 0.7692\n",
      "Epoch 18/32\n",
      "36/36 [==============================] - 2s 58ms/step - loss: 0.7535 - acc: 0.7486 - val_loss: 0.9500 - val_acc: 0.6748\n",
      "Epoch 19/32\n",
      "36/36 [==============================] - 2s 58ms/step - loss: 0.7545 - acc: 0.7452 - val_loss: 0.7112 - val_acc: 0.7657\n",
      "Epoch 20/32\n",
      "36/36 [==============================] - 2s 57ms/step - loss: 0.6622 - acc: 0.7733 - val_loss: 0.7369 - val_acc: 0.7657\n",
      "Epoch 21/32\n",
      "36/36 [==============================] - 2s 58ms/step - loss: 0.7196 - acc: 0.7573 - val_loss: 0.6469 - val_acc: 0.7762\n",
      "Epoch 22/32\n",
      "36/36 [==============================] - 2s 60ms/step - loss: 0.6597 - acc: 0.7794 - val_loss: 0.6169 - val_acc: 0.8147\n",
      "Epoch 23/32\n",
      "36/36 [==============================] - 2s 56ms/step - loss: 0.6459 - acc: 0.7833 - val_loss: 0.6344 - val_acc: 0.7902\n",
      "Epoch 24/32\n",
      "36/36 [==============================] - 2s 59ms/step - loss: 0.5398 - acc: 0.8276 - val_loss: 0.5790 - val_acc: 0.7937\n",
      "Epoch 25/32\n",
      "36/36 [==============================] - 2s 58ms/step - loss: 0.5418 - acc: 0.8202 - val_loss: 0.5725 - val_acc: 0.7972\n",
      "Epoch 26/32\n",
      "36/36 [==============================] - 2s 59ms/step - loss: 0.5685 - acc: 0.8128 - val_loss: 0.5483 - val_acc: 0.8322\n",
      "Epoch 27/32\n",
      "36/36 [==============================] - 2s 59ms/step - loss: 0.5954 - acc: 0.8067 - val_loss: 0.5628 - val_acc: 0.7937\n",
      "Epoch 28/32\n",
      "36/36 [==============================] - 2s 58ms/step - loss: 0.5385 - acc: 0.7994 - val_loss: 0.6760 - val_acc: 0.7972\n",
      "Epoch 29/32\n",
      "36/36 [==============================] - 2s 59ms/step - loss: 0.5127 - acc: 0.8307 - val_loss: 0.5248 - val_acc: 0.8182\n",
      "Epoch 30/32\n",
      "36/36 [==============================] - 2s 59ms/step - loss: 0.4781 - acc: 0.8463 - val_loss: 0.7562 - val_acc: 0.7587\n",
      "Epoch 31/32\n",
      "36/36 [==============================] - 2s 57ms/step - loss: 0.5298 - acc: 0.8324 - val_loss: 0.6481 - val_acc: 0.8042\n",
      "Epoch 32/32\n",
      "36/36 [==============================] - 2s 59ms/step - loss: 0.4871 - acc: 0.8346 - val_loss: 0.5020 - val_acc: 0.8497\n",
      "286/286 [==============================] - 0s 738us/step\n"
     ]
    },
    {
     "data": {
      "text/plain": [
       "[0.501987142371131, 0.8496503504839811]"
      ]
     },
     "execution_count": 25,
     "metadata": {
      "tags": []
     },
     "output_type": "execute_result"
    }
   ],
   "source": [
    "from keras.preprocessing.image import ImageDataGenerator\n",
    "model2 = createModel()\n",
    "model2.compile(loss = 'categorical_crossentropy',optimizer='adam',metrics=['accuracy'])\n",
    "\n",
    "datagen = ImageDataGenerator(\n",
    "rotation_range=25, \n",
    "width_shift_range=0.1,\n",
    "height_shift_range=0.1, \n",
    "shear_range=0.2, \n",
    "zoom_range=0.2,\n",
    "horizontal_flip=True, \n",
    "fill_mode=\"nearest\"\n",
    ")\n",
    "history2 = model2.fit_generator(datagen.flow(X_train, Y_train_one_hot, batch_size=32),\n",
    "                              steps_per_epoch=int(np.ceil(X_train.shape[0] / float(32))),\n",
    "                              epochs=32,\n",
    "                              validation_data=(X_test, Y_test_one_hot),\n",
    "                              workers=4)\n",
    "\n",
    "model2.evaluate(X_test, Y_test_one_hot)"
   ]
  },
  {
   "cell_type": "code",
   "execution_count": 26,
   "metadata": {
    "colab": {
     "base_uri": "https://localhost:8080/",
     "height": 411
    },
    "colab_type": "code",
    "id": "_RyPd7GRPfyt",
    "outputId": "6bfd29b1-fda5-497a-e63b-06006cc8be64"
   },
   "outputs": [
    {
     "data": {
      "image/png": "[encoded data removed]",
      "text/plain": [
       "<Figure size 576x432 with 1 Axes>"
      ]
     },
     "metadata": {
      "tags": []
     },
     "output_type": "display_data"
    }
   ],
   "source": [
    "plt.figure(figsize=[8,6])\n",
    "plt.plot(history2.history['acc'],'r',linewidth=3.0)\n",
    "plt.plot(history2.history['val_acc'],'b',linewidth=3.0)\n",
    "plt.legend(['Training Accuracy', 'Validation Accuracy'],fontsize=18)\n",
    "plt.xlabel('Epochs ',fontsize=16)\n",
    "plt.ylabel('Accuracy',fontsize=16)\n",
    "plt.title('Accuracy Curves',fontsize=16)\n",
    "plt.show()"
   ]
  },
  {
   "cell_type": "markdown",
   "metadata": {
    "colab_type": "text",
    "id": "gLFtcUxb3FE7"
   },
   "source": [
    "## A more complex model -\n",
    "### Batch Normalization\n",
    "### Dropouts"
   ]
  },
  {
   "cell_type": "code",
   "execution_count": 0,
   "metadata": {
    "colab": {},
    "colab_type": "code",
    "id": "zys7m5TUSCu-"
   },
   "outputs": [],
   "source": [
    "def newModel():\n",
    "  classifier = Sequential()\n",
    "  classifier.add(Conv2D(32,(3,3),padding ='same',input_shape = Input_shape))\n",
    "  classifier.add(Activation(\"relu\"))\n",
    "  classifier.add(BatchNormalization(axis = -1))\n",
    "  classifier.add(MaxPooling2D(pool_size=(3,3)))\n",
    "  classifier.add(Dropout(0.25))\n",
    "  \n",
    "  classifier.add(Conv2D(64, (3, 3), padding=\"same\",input_shape=Input_shape))\n",
    "  classifier.add(Activation(\"relu\"))\n",
    "  classifier.add(BatchNormalization(axis=-1))\n",
    "  classifier.add(Conv2D(64, (3, 3), padding=\"same\",input_shape=Input_shape))\n",
    "  classifier.add(Activation(\"relu\"))\n",
    "  classifier.add(BatchNormalization(axis=-1))\n",
    "  classifier.add(MaxPooling2D(pool_size=(2, 2)))\n",
    "  classifier.add(Dropout(0.25))\n",
    "  \n",
    "  classifier.add(Conv2D(128, (3, 3), padding=\"same\" , input_shape=Input_shape))\n",
    "  classifier.add(Activation(\"relu\"))\n",
    "  classifier.add(BatchNormalization(axis=-1))\n",
    "  classifier.add(Conv2D(128, (3, 3), padding=\"same\",input_shape=Input_shape))\n",
    "  classifier.add(Activation(\"relu\"))\n",
    "  classifier.add(BatchNormalization(axis=-1))\n",
    "  classifier.add(MaxPooling2D(pool_size=(2, 2)))\n",
    "  classifier.add(Dropout(0.25))\n",
    "  \n",
    "  classifier.add(Flatten())\n",
    "  classifier.add(Dense(1024))\n",
    "  classifier.add(Activation(\"relu\"))\n",
    "  classifier.add(BatchNormalization())\n",
    "  classifier.add(Dropout(0.5))\n",
    "        \n",
    "        # softmax classifier\n",
    "  classifier.add(Dense(10))\n",
    "  classifier.add(Activation(\"softmax\"))\n",
    "        \n",
    "        # return the constructed network architecture\n",
    "  return classifier"
   ]
  },
  {
   "cell_type": "code",
   "execution_count": 0,
   "metadata": {
    "colab": {
     "base_uri": "https://localhost:8080/",
     "height": 1000
    },
    "colab_type": "code",
    "id": "smUyUn34umuL",
    "outputId": "e437cc9e-d91a-4f81-d3c3-fd67740efb89"
   },
   "outputs": [
    {
     "name": "stdout",
     "output_type": "stream",
     "text": [
      "_________________________________________________________________\n",
      "Layer (type)                 Output Shape              Param #   \n",
      "=================================================================\n",
      "conv2d_3 (Conv2D)            (None, 96, 96, 32)        896       \n",
      "_________________________________________________________________\n",
      "activation_3 (Activation)    (None, 96, 96, 32)        0         \n",
      "_________________________________________________________________\n",
      "batch_normalization_3 (Batch (None, 96, 96, 32)        128       \n",
      "_________________________________________________________________\n",
      "max_pooling2d_2 (MaxPooling2 (None, 32, 32, 32)        0         \n",
      "_________________________________________________________________\n",
      "dropout_2 (Dropout)          (None, 32, 32, 32)        0         \n",
      "_________________________________________________________________\n",
      "conv2d_4 (Conv2D)            (None, 32, 32, 64)        18496     \n",
      "_________________________________________________________________\n",
      "activation_4 (Activation)    (None, 32, 32, 64)        0         \n",
      "_________________________________________________________________\n",
      "batch_normalization_4 (Batch (None, 32, 32, 64)        256       \n",
      "_________________________________________________________________\n",
      "conv2d_5 (Conv2D)            (None, 32, 32, 64)        36928     \n",
      "_________________________________________________________________\n",
      "activation_5 (Activation)    (None, 32, 32, 64)        0         \n",
      "_________________________________________________________________\n",
      "batch_normalization_5 (Batch (None, 32, 32, 64)        256       \n",
      "_________________________________________________________________\n",
      "max_pooling2d_3 (MaxPooling2 (None, 16, 16, 64)        0         \n",
      "_________________________________________________________________\n",
      "dropout_3 (Dropout)          (None, 16, 16, 64)        0         \n",
      "_________________________________________________________________\n",
      "conv2d_6 (Conv2D)            (None, 16, 16, 128)       73856     \n",
      "_________________________________________________________________\n",
      "activation_6 (Activation)    (None, 16, 16, 128)       0         \n",
      "_________________________________________________________________\n",
      "batch_normalization_6 (Batch (None, 16, 16, 128)       512       \n",
      "_________________________________________________________________\n",
      "conv2d_7 (Conv2D)            (None, 16, 16, 128)       147584    \n",
      "_________________________________________________________________\n",
      "activation_7 (Activation)    (None, 16, 16, 128)       0         \n",
      "_________________________________________________________________\n",
      "batch_normalization_7 (Batch (None, 16, 16, 128)       512       \n",
      "_________________________________________________________________\n",
      "max_pooling2d_4 (MaxPooling2 (None, 8, 8, 128)         0         \n",
      "_________________________________________________________________\n",
      "dropout_4 (Dropout)          (None, 8, 8, 128)         0         \n",
      "_________________________________________________________________\n",
      "flatten_1 (Flatten)          (None, 8192)              0         \n",
      "_________________________________________________________________\n",
      "dense_1 (Dense)              (None, 1024)              8389632   \n",
      "_________________________________________________________________\n",
      "activation_8 (Activation)    (None, 1024)              0         \n",
      "_________________________________________________________________\n",
      "batch_normalization_8 (Batch (None, 1024)              4096      \n",
      "_________________________________________________________________\n",
      "dropout_5 (Dropout)          (None, 1024)              0         \n",
      "_________________________________________________________________\n",
      "dense_2 (Dense)              (None, 10)                10250     \n",
      "_________________________________________________________________\n",
      "activation_9 (Activation)    (None, 10)                0         \n",
      "=================================================================\n",
      "Total params: 8,683,402\n",
      "Trainable params: 8,680,522\n",
      "Non-trainable params: 2,880\n",
      "_________________________________________________________________\n"
     ]
    }
   ],
   "source": [
    "model2 = newModel()\n",
    "model2.summary()"
   ]
  },
  {
   "cell_type": "code",
   "execution_count": 0,
   "metadata": {
    "colab": {
     "base_uri": "https://localhost:8080/",
     "height": 836
    },
    "colab_type": "code",
    "id": "drL1lXhdurmq",
    "outputId": "21c098f1-59a6-478b-f395-f3acc464b99a"
   },
   "outputs": [
    {
     "name": "stderr",
     "output_type": "stream",
     "text": [
      "W0712 05:50:56.730370 139788956845952 deprecation_wrapper.py:119] From /usr/local/lib/python3.6/dist-packages/keras/optimizers.py:790: The name tf.train.Optimizer is deprecated. Please use tf.compat.v1.train.Optimizer instead.\n",
      "\n",
      "W0712 05:50:56.891358 139788956845952 deprecation.py:323] From /usr/local/lib/python3.6/dist-packages/tensorflow/python/ops/math_grad.py:1250: add_dispatch_support.<locals>.wrapper (from tensorflow.python.ops.array_ops) is deprecated and will be removed in a future version.\n",
      "Instructions for updating:\n",
      "Use tf.where in 2.0, which has the same broadcast rule as np.where\n"
     ]
    },
    {
     "name": "stdout",
     "output_type": "stream",
     "text": [
      "Train on 1141 samples, validate on 286 samples\n",
      "Epoch 1/20\n",
      "1141/1141 [==============================] - 7s 6ms/step - loss: 2.0191 - acc: 0.4522 - val_loss: 1.7092 - val_acc: 0.5804\n",
      "Epoch 2/20\n",
      "1141/1141 [==============================] - 2s 2ms/step - loss: 1.0096 - acc: 0.7038 - val_loss: 3.1444 - val_acc: 0.4510\n",
      "Epoch 3/20\n",
      "1141/1141 [==============================] - 2s 2ms/step - loss: 0.8136 - acc: 0.7581 - val_loss: 1.2087 - val_acc: 0.6993\n",
      "Epoch 4/20\n",
      "1141/1141 [==============================] - 2s 2ms/step - loss: 0.7427 - acc: 0.7555 - val_loss: 1.0991 - val_acc: 0.7343\n",
      "Epoch 5/20\n",
      "1141/1141 [==============================] - 2s 2ms/step - loss: 0.6408 - acc: 0.8037 - val_loss: 1.5946 - val_acc: 0.6573\n",
      "Epoch 6/20\n",
      "1141/1141 [==============================] - 2s 2ms/step - loss: 0.5173 - acc: 0.8344 - val_loss: 0.9845 - val_acc: 0.7483\n",
      "Epoch 7/20\n",
      "1141/1141 [==============================] - 2s 2ms/step - loss: 0.4308 - acc: 0.8580 - val_loss: 1.6668 - val_acc: 0.6678\n",
      "Epoch 8/20\n",
      "1141/1141 [==============================] - 2s 2ms/step - loss: 0.3142 - acc: 0.8966 - val_loss: 0.9388 - val_acc: 0.7832\n",
      "Epoch 9/20\n",
      "1141/1141 [==============================] - 2s 2ms/step - loss: 0.3010 - acc: 0.9097 - val_loss: 0.9208 - val_acc: 0.8042\n",
      "Epoch 10/20\n",
      "1141/1141 [==============================] - 2s 2ms/step - loss: 0.2403 - acc: 0.9202 - val_loss: 0.9438 - val_acc: 0.7762\n",
      "Epoch 11/20\n",
      "1141/1141 [==============================] - 2s 2ms/step - loss: 0.2183 - acc: 0.9325 - val_loss: 0.8815 - val_acc: 0.8077\n",
      "Epoch 12/20\n",
      "1141/1141 [==============================] - 2s 2ms/step - loss: 0.2452 - acc: 0.9255 - val_loss: 1.6616 - val_acc: 0.6678\n",
      "Epoch 13/20\n",
      "1141/1141 [==============================] - 2s 2ms/step - loss: 0.2812 - acc: 0.9097 - val_loss: 1.1860 - val_acc: 0.7587\n",
      "Epoch 14/20\n",
      "1141/1141 [==============================] - 2s 2ms/step - loss: 0.2422 - acc: 0.9220 - val_loss: 1.1219 - val_acc: 0.7517\n",
      "Epoch 15/20\n",
      "1141/1141 [==============================] - 2s 2ms/step - loss: 0.1844 - acc: 0.9387 - val_loss: 1.1600 - val_acc: 0.7587\n",
      "Epoch 16/20\n",
      "1141/1141 [==============================] - 2s 2ms/step - loss: 0.1960 - acc: 0.9439 - val_loss: 1.2056 - val_acc: 0.7657\n",
      "Epoch 17/20\n",
      "1141/1141 [==============================] - 2s 2ms/step - loss: 0.1761 - acc: 0.9430 - val_loss: 1.4091 - val_acc: 0.7483\n",
      "Epoch 18/20\n",
      "1141/1141 [==============================] - 2s 2ms/step - loss: 0.1420 - acc: 0.9544 - val_loss: 1.1872 - val_acc: 0.7692\n",
      "Epoch 19/20\n",
      "1141/1141 [==============================] - 2s 2ms/step - loss: 0.1117 - acc: 0.9658 - val_loss: 1.1495 - val_acc: 0.7587\n",
      "Epoch 20/20\n",
      "1141/1141 [==============================] - 2s 2ms/step - loss: 0.1260 - acc: 0.9649 - val_loss: 1.3637 - val_acc: 0.7657\n"
     ]
    }
   ],
   "source": [
    "model2.compile(loss = 'categorical_crossentropy',optimizer='adam',metrics=['accuracy'])\n",
    "\n",
    "hist_vgg = model2.fit(X_train , Y_train_one_hot,batch_size = 32 , epochs = 20 , verbose = 1,\n",
    "                validation_data = (X_test , Y_test_one_hot))\n",
    "score = model2.evaluate(X_test, Y_test_one_hot, verbose=0)"
   ]
  },
  {
   "cell_type": "code",
   "execution_count": 0,
   "metadata": {
    "colab": {
     "base_uri": "https://localhost:8080/",
     "height": 411
    },
    "colab_type": "code",
    "id": "mpE3Flr4vAcX",
    "outputId": "bd435692-befc-4a0f-adfa-7aab4fac4d9c"
   },
   "outputs": [
    {
     "data": {
      "image/png": "[encoded data removed]",
      "text/plain": [
       "<Figure size 576x432 with 1 Axes>"
      ]
     },
     "metadata": {
      "tags": []
     },
     "output_type": "display_data"
    }
   ],
   "source": [
    "plt.figure(figsize=[8,6])\n",
    "plt.plot(hist_vgg.history['acc'],'r',linewidth=3.0)\n",
    "plt.plot(hist_vgg.history['val_acc'],'b',linewidth=3.0)\n",
    "plt.legend(['Training Accuracy', 'Validation Accuracy'],fontsize=18)\n",
    "plt.xlabel('Epochs ',fontsize=16)\n",
    "plt.ylabel('Accuracy',fontsize=16)\n",
    "plt.title('Accuracy Curves',fontsize=16)\n",
    "plt.show()"
   ]
  },
  {
   "cell_type": "markdown",
   "metadata": {
    "colab_type": "text",
    "id": "WFXoKnhaJrrX"
   },
   "source": [
    "###Clearly the model is overfitting as the complex model will help us attain better accuracy on training set but will only be limited by the training data thus leading to bigger difference in training and validation accuracy."
   ]
  },
  {
   "cell_type": "markdown",
   "metadata": {
    "colab_type": "text",
    "id": "u2KrrhBM3bak"
   },
   "source": [
    "## Complex model with ImageDatagenerator"
   ]
  },
  {
   "cell_type": "code",
   "execution_count": 0,
   "metadata": {
    "colab": {
     "base_uri": "https://localhost:8080/",
     "height": 1000
    },
    "colab_type": "code",
    "id": "QLuUGAl_vZTR",
    "outputId": "83805325-43fa-496c-88e6-8c9cf8a91ce4"
   },
   "outputs": [
    {
     "name": "stdout",
     "output_type": "stream",
     "text": [
      "Epoch 1/32\n",
      "36/36 [==============================] - 6s 164ms/step - loss: 2.3590 - acc: 0.4021 - val_loss: 2.0892 - val_acc: 0.5664\n",
      "Epoch 2/32\n",
      "36/36 [==============================] - 3s 81ms/step - loss: 1.4543 - acc: 0.5797 - val_loss: 1.7771 - val_acc: 0.5979\n",
      "Epoch 3/32\n",
      "36/36 [==============================] - 3s 89ms/step - loss: 1.3263 - acc: 0.5975 - val_loss: 2.3114 - val_acc: 0.5140\n",
      "Epoch 4/32\n",
      "36/36 [==============================] - 3s 89ms/step - loss: 1.2546 - acc: 0.6274 - val_loss: 1.5872 - val_acc: 0.6154\n",
      "Epoch 5/32\n",
      "36/36 [==============================] - 3s 88ms/step - loss: 1.2910 - acc: 0.6257 - val_loss: 1.2619 - val_acc: 0.6643\n",
      "Epoch 6/32\n",
      "36/36 [==============================] - 3s 86ms/step - loss: 1.0731 - acc: 0.6691 - val_loss: 1.6352 - val_acc: 0.6119\n",
      "Epoch 7/32\n",
      "36/36 [==============================] - 3s 87ms/step - loss: 0.9150 - acc: 0.7186 - val_loss: 1.1973 - val_acc: 0.7028\n",
      "Epoch 8/32\n",
      "36/36 [==============================] - 3s 89ms/step - loss: 0.9577 - acc: 0.7099 - val_loss: 0.9818 - val_acc: 0.7273\n",
      "Epoch 9/32\n",
      "36/36 [==============================] - 3s 87ms/step - loss: 0.8697 - acc: 0.7186 - val_loss: 1.5917 - val_acc: 0.6014\n",
      "Epoch 10/32\n",
      "36/36 [==============================] - 3s 88ms/step - loss: 0.7950 - acc: 0.7659 - val_loss: 0.9300 - val_acc: 0.7343\n",
      "Epoch 11/32\n",
      "36/36 [==============================] - 3s 87ms/step - loss: 0.8159 - acc: 0.7455 - val_loss: 1.2685 - val_acc: 0.7098\n",
      "Epoch 12/32\n",
      "36/36 [==============================] - 3s 88ms/step - loss: 0.7508 - acc: 0.7746 - val_loss: 1.1360 - val_acc: 0.7098\n",
      "Epoch 13/32\n",
      "36/36 [==============================] - 3s 87ms/step - loss: 0.7065 - acc: 0.7838 - val_loss: 1.0196 - val_acc: 0.7133\n",
      "Epoch 14/32\n",
      "36/36 [==============================] - 3s 87ms/step - loss: 0.6386 - acc: 0.7998 - val_loss: 1.0158 - val_acc: 0.7343\n",
      "Epoch 15/32\n",
      "36/36 [==============================] - 3s 86ms/step - loss: 0.6041 - acc: 0.8038 - val_loss: 0.9801 - val_acc: 0.7657\n",
      "Epoch 16/32\n",
      "36/36 [==============================] - 3s 87ms/step - loss: 0.5741 - acc: 0.8094 - val_loss: 0.9373 - val_acc: 0.7308\n",
      "Epoch 17/32\n",
      "36/36 [==============================] - 3s 88ms/step - loss: 0.5755 - acc: 0.8107 - val_loss: 1.0808 - val_acc: 0.7168\n",
      "Epoch 18/32\n",
      "36/36 [==============================] - 3s 88ms/step - loss: 0.6130 - acc: 0.8055 - val_loss: 0.7040 - val_acc: 0.8112\n",
      "Epoch 19/32\n",
      "36/36 [==============================] - 3s 88ms/step - loss: 0.5228 - acc: 0.8263 - val_loss: 0.8021 - val_acc: 0.7797\n",
      "Epoch 20/32\n",
      "36/36 [==============================] - 3s 87ms/step - loss: 0.4898 - acc: 0.8441 - val_loss: 0.6658 - val_acc: 0.8112\n",
      "Epoch 21/32\n",
      "36/36 [==============================] - 3s 88ms/step - loss: 0.5587 - acc: 0.8255 - val_loss: 0.5862 - val_acc: 0.8392\n",
      "Epoch 22/32\n",
      "36/36 [==============================] - 3s 89ms/step - loss: 0.4959 - acc: 0.8268 - val_loss: 0.5824 - val_acc: 0.8357\n",
      "Epoch 23/32\n",
      "36/36 [==============================] - 3s 88ms/step - loss: 0.4551 - acc: 0.8415 - val_loss: 0.9348 - val_acc: 0.7797\n",
      "Epoch 24/32\n",
      "36/36 [==============================] - 3s 86ms/step - loss: 0.4657 - acc: 0.8437 - val_loss: 1.6215 - val_acc: 0.6329\n",
      "Epoch 25/32\n",
      "36/36 [==============================] - 3s 87ms/step - loss: 0.4326 - acc: 0.8619 - val_loss: 0.6923 - val_acc: 0.8042\n",
      "Epoch 26/32\n",
      "36/36 [==============================] - 3s 88ms/step - loss: 0.3757 - acc: 0.8814 - val_loss: 0.7055 - val_acc: 0.8427\n",
      "Epoch 27/32\n",
      "36/36 [==============================] - 3s 87ms/step - loss: 0.4175 - acc: 0.8719 - val_loss: 0.8002 - val_acc: 0.8217\n",
      "Epoch 28/32\n",
      "36/36 [==============================] - 3s 88ms/step - loss: 0.3426 - acc: 0.8836 - val_loss: 1.0545 - val_acc: 0.7413\n",
      "Epoch 29/32\n",
      "36/36 [==============================] - 3s 87ms/step - loss: 0.3843 - acc: 0.8693 - val_loss: 0.6939 - val_acc: 0.8252\n",
      "Epoch 30/32\n",
      "36/36 [==============================] - 3s 86ms/step - loss: 0.4168 - acc: 0.8675 - val_loss: 0.8168 - val_acc: 0.7902\n",
      "Epoch 31/32\n",
      "36/36 [==============================] - 3s 88ms/step - loss: 0.3428 - acc: 0.8819 - val_loss: 0.7238 - val_acc: 0.8357\n",
      "Epoch 32/32\n",
      "36/36 [==============================] - 3s 86ms/step - loss: 0.3779 - acc: 0.8758 - val_loss: 0.7531 - val_acc: 0.8357\n",
      "286/286 [==============================] - 0s 520us/step\n"
     ]
    },
    {
     "data": {
      "text/plain": [
       "[0.7531381716261377, 0.8356643339970729]"
      ]
     },
     "execution_count": 56,
     "metadata": {
      "tags": []
     },
     "output_type": "execute_result"
    }
   ],
   "source": [
    "from keras.preprocessing.image import ImageDataGenerator\n",
    "\n",
    "model3 = newModel()\n",
    "model3.compile(loss = 'categorical_crossentropy', optimizer = 'adam',metrics = ['accuracy'])\n",
    "datagen = ImageDataGenerator(\n",
    "rotation_range=25, \n",
    "width_shift_range=0.1,\n",
    "height_shift_range=0.1, \n",
    "shear_range=0.2, \n",
    "zoom_range=0.2,\n",
    "horizontal_flip=True, \n",
    "fill_mode=\"nearest\"\n",
    ")\n",
    "history3 = model3.fit_generator(datagen.flow(X_train, Y_train_one_hot, batch_size=32),\n",
    "                              steps_per_epoch=int(np.ceil(X_train.shape[0] / float(32))),\n",
    "                              epochs=32,\n",
    "                              validation_data=(X_test, Y_test_one_hot),\n",
    "                              validation_steps = 32,\n",
    "                              workers=4)\n",
    "\n",
    "model3.evaluate(X_test, Y_test_one_hot)"
   ]
  },
  {
   "cell_type": "code",
   "execution_count": 0,
   "metadata": {
    "colab": {
     "base_uri": "https://localhost:8080/",
     "height": 411
    },
    "colab_type": "code",
    "id": "c7sdfwdaw_CT",
    "outputId": "6a5d6219-8eee-4f7a-c4a6-48d084cdc9b0"
   },
   "outputs": [
    {
     "data": {
      "image/png": "[encoded data removed]",
      "text/plain": [
       "<Figure size 576x432 with 1 Axes>"
      ]
     },
     "metadata": {
      "tags": []
     },
     "output_type": "display_data"
    }
   ],
   "source": [
    "plt.figure(figsize=[8,6])\n",
    "plt.plot(history3.history['acc'],'r',linewidth=3.0)\n",
    "plt.plot(history3.history['val_acc'],'b',linewidth=3.0)\n",
    "plt.legend(['Training Accuracy', 'Validation Accuracy'],fontsize=18)\n",
    "plt.xlabel('Epochs ',fontsize=16)\n",
    "plt.ylabel('Accuracy',fontsize=16)\n",
    "plt.title('Accuracy Curves',fontsize=16)\n",
    "plt.show()"
   ]
  },
  {
   "cell_type": "markdown",
   "metadata": {
    "colab_type": "text",
    "id": "HIQ6RniMKPNf"
   },
   "source": [
    "### After increasing the number of images with Image Augumentation we can witness somewhat better results. \n",
    "And as we use more consistent dataset with sufficient data for each label model  the model accuracy will improve gradually!"
   ]
  },
  {
   "cell_type": "code",
   "execution_count": 0,
   "metadata": {
    "colab": {
     "base_uri": "https://localhost:8080/",
     "height": 362
    },
    "colab_type": "code",
    "id": "MJkVWxo_xuVY",
    "outputId": "28e50fb9-2c92-4e1c-836f-2dd58aa5162b"
   },
   "outputs": [
    {
     "data": {
      "image/png": "[encoded data removed]",
      "text/plain": [
       "<Figure size 576x396 with 1 Axes>"
      ]
     },
     "metadata": {
      "tags": []
     },
     "output_type": "display_data"
    }
   ],
   "source": [
    "a =np.random.randint(286)\n",
    "b = model3.predict_classes(X_test[a].reshape((-1,96,96,3)))\n",
    "\n",
    "drawImg(X_test[a],b[0])"
   ]
  },
  {
   "cell_type": "code",
   "execution_count": 0,
   "metadata": {
    "colab": {
     "base_uri": "https://localhost:8080/",
     "height": 34
    },
    "colab_type": "code",
    "id": "BdcH6E8Cx47d",
    "outputId": "a96962a4-889b-43d5-a30a-f080f4e17f8e"
   },
   "outputs": [
    {
     "data": {
      "text/plain": [
       "4"
      ]
     },
     "execution_count": 62,
     "metadata": {
      "tags": []
     },
     "output_type": "execute_result"
    }
   ],
   "source": []
  },
  {
   "cell_type": "code",
   "execution_count": 0,
   "metadata": {
    "colab": {},
    "colab_type": "code",
    "id": "mnDGX1lNyD_K"
   },
   "outputs": [],
   "source": []
  }
 ],
 "metadata": {
  "accelerator": "GPU",
  "colab": {
   "collapsed_sections": [],
   "include_colab_link": true,
   "name": "Pokemon_Classifier.ipynb",
   "provenance": [],
   "version": "0.3.2"
  },
  "kernelspec": {
   "display_name": "Python 3",
   "language": "python",
   "name": "python3"
  },
  "language_info": {
   "codemirror_mode": {
    "name": "ipython",
    "version": 3
   },
   "file_extension": ".py",
   "mimetype": "text/x-python",
   "name": "python",
   "nbconvert_exporter": "python",
   "pygments_lexer": "ipython3",
   "version": "3.7.3"
  }
 },
 "nbformat": 4,
 "nbformat_minor": 1
}
