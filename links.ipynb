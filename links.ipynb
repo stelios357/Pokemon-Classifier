{
 "cells": [
  {
   "cell_type": "markdown",
   "metadata": {},
   "source": [
    "\n",
    "**Conv-layer Visualization**`: `https://blog.keras.io/how-convolutional-neural-networks-see-the-world.html \n",
    "\n",
    "**Face-liveliness-detection** : https://towardsdatascience.com/real-time-face-liveness-detection-with-python-keras-and-opencv-c35dc70dafd3\n",
    "\n",
    "\n",
    "**Threshold opencv** - https://pythonprogramming.net/thresholding-image-analysis-python-opencv-tutorial/\n",
    "\n",
    "**Emotion_recognition (enhanced approach)** : https://appliedmachinelearning.blog/2018/11/28/demonstration-of-facial-emotion-recognition-on-real-time-video-using-cnn-python-keras/\n",
    "\n",
    "**CNN-NLP** : http://www.wildml.com/2015/11/understanding-convolutional-neural-networks-for-nlp/\n",
    "\n",
    "**Andrej Karpathy's blog** - http://karpathy.github.io/ (deep learning future reading resource)\n",
    "\n"
   ]
  },
  {
   "cell_type": "code",
   "execution_count": null,
   "metadata": {},
   "outputs": [],
   "source": []
  }
 ],
 "metadata": {
  "kernelspec": {
   "display_name": "Python 3",
   "language": "python",
   "name": "python3"
  },
  "language_info": {
   "codemirror_mode": {
    "name": "ipython",
    "version": 3
   },
   "file_extension": ".py",
   "mimetype": "text/x-python",
   "name": "python",
   "nbconvert_exporter": "python",
   "pygments_lexer": "ipython3",
   "version": "3.7.0"
  }
 },
 "nbformat": 4,
 "nbformat_minor": 2
}
